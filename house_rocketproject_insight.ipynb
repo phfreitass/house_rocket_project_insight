{
 "cells": [
  {
   "cell_type": "markdown",
   "id": "87c4df7f",
   "metadata": {},
   "source": [
    "# House Rocket - Project Insight"
   ]
  },
  {
   "cell_type": "markdown",
   "id": "68bee179",
   "metadata": {},
   "source": [
    "## 0.0. Imports"
   ]
  },
  {
   "cell_type": "code",
   "execution_count": 175,
   "id": "8c710a23",
   "metadata": {},
   "outputs": [],
   "source": [
    "import warnings\n",
    "\n",
    "import pandas   as pd\n",
    "import numpy    as np\n",
    "import seaborn  as sns\n",
    "\n",
    "import matplotlib.pyplot    as plt\n",
    "import plotly.express       as px\n",
    "\n",
    "from matplotlib import gridspec\n",
    "from pandas import reset_option"
   ]
  },
  {
   "cell_type": "markdown",
   "id": "3f46f0c4",
   "metadata": {},
   "source": [
    "### 0.1. Helper Functions"
   ]
  },
  {
   "cell_type": "code",
   "execution_count": 264,
   "id": "d6c07c2c",
   "metadata": {},
   "outputs": [],
   "source": [
    "#Função que executa o percentual para cada Insights    \n",
    "def calculo_percentual(df, coluna):\n",
    "    date = df.sort_values(by= coluna, ascending=True).reset_index().drop(columns= 'index')\n",
    "    date = (date.loc[1,coluna] / date.loc[0, coluna] - 1) * 100\n",
    "    \n",
    "    return date\n",
    "\n",
    "# Função para plotar os graficos nos Insights\n",
    "def plot_bar (df, x, y):\n",
    "\n",
    "    fig = px.bar(df, x, y)\n",
    "    fig.update_layout(xaxis_rangeslider_visible=False, margin=dict(l=120, r=20, t=20, b=20), template = 'simple_white',\n",
    "                  paper_bgcolor=\"#f7f8fa\", width=800,height=400)\n",
    "\n",
    "    fig.show()\n",
    "\n",
    "\n",
    "def jupyter_settings():\n",
    "    %matplotlib inline\n",
    "    plt.style.use( 'bmh' )\n",
    "    plt.rcParams['figure.figsize'] = [10, 8]\n",
    "    plt.rcParams['font.size'] = 24\n",
    "    #display( HTML( '<style>.container { width:100% !important; }</style>') )\n",
    "    pd.options.display.max_columns = None\n",
    "    pd.options.display.max_rows = None\n",
    "    pd.set_option( 'display.expand_frame_repr', False )\n",
    "    sns.set()\n",
    "jupyter_settings()\n",
    "\n",
    "warnings.filterwarnings('ignore')\n",
    "\n",
    "pd.set_option('display.float_format', lambda x: '%.2f' % x)"
   ]
  },
  {
   "cell_type": "markdown",
   "id": "b5219804",
   "metadata": {},
   "source": [
    "### 0.2. Loading data"
   ]
  },
  {
   "cell_type": "code",
   "execution_count": 177,
   "id": "2bc3a9c6",
   "metadata": {},
   "outputs": [],
   "source": [
    "df = pd.read_csv('datasets/kc_house_data.csv')"
   ]
  },
  {
   "cell_type": "markdown",
   "id": "0161cc44",
   "metadata": {},
   "source": [
    "## 1.0. Descrição dos Dados"
   ]
  },
  {
   "cell_type": "code",
   "execution_count": 178,
   "id": "bfa402d5",
   "metadata": {},
   "outputs": [],
   "source": [
    "df1 = df.copy()"
   ]
  },
  {
   "cell_type": "code",
   "execution_count": 179,
   "id": "a3d195d6",
   "metadata": {},
   "outputs": [
    {
     "data": {
      "text/plain": [
       "Index(['id', 'date', 'price', 'bedrooms', 'bathrooms', 'sqft_living',\n",
       "       'sqft_lot', 'floors', 'waterfront', 'view', 'condition', 'grade',\n",
       "       'sqft_above', 'sqft_basement', 'yr_built', 'yr_renovated', 'zipcode',\n",
       "       'lat', 'long', 'sqft_living15', 'sqft_lot15'],\n",
       "      dtype='object')"
      ]
     },
     "execution_count": 179,
     "metadata": {},
     "output_type": "execute_result"
    }
   ],
   "source": [
    "df1.columns"
   ]
  },
  {
   "cell_type": "markdown",
   "id": "338f7ed3",
   "metadata": {},
   "source": [
    "### 1.1. Data Dimensions"
   ]
  },
  {
   "cell_type": "code",
   "execution_count": 180,
   "id": "5fdca604",
   "metadata": {},
   "outputs": [
    {
     "name": "stdout",
     "output_type": "stream",
     "text": [
      "Número de linha: 21613\n",
      "Número de colunas: 21\n"
     ]
    }
   ],
   "source": [
    "print('Número de linha: {}'.format(df1.shape[0]))\n",
    "print('Número de colunas: {}'.format(df1.shape[1]))\n"
   ]
  },
  {
   "cell_type": "code",
   "execution_count": 181,
   "id": "d67eaedb",
   "metadata": {},
   "outputs": [
    {
     "data": {
      "text/html": [
       "<div>\n",
       "<style scoped>\n",
       "    .dataframe tbody tr th:only-of-type {\n",
       "        vertical-align: middle;\n",
       "    }\n",
       "\n",
       "    .dataframe tbody tr th {\n",
       "        vertical-align: top;\n",
       "    }\n",
       "\n",
       "    .dataframe thead th {\n",
       "        text-align: right;\n",
       "    }\n",
       "</style>\n",
       "<table border=\"1\" class=\"dataframe\">\n",
       "  <thead>\n",
       "    <tr style=\"text-align: right;\">\n",
       "      <th></th>\n",
       "      <th>id</th>\n",
       "      <th>date</th>\n",
       "      <th>price</th>\n",
       "      <th>bedrooms</th>\n",
       "      <th>bathrooms</th>\n",
       "      <th>sqft_living</th>\n",
       "      <th>sqft_lot</th>\n",
       "      <th>floors</th>\n",
       "      <th>waterfront</th>\n",
       "      <th>view</th>\n",
       "      <th>condition</th>\n",
       "      <th>grade</th>\n",
       "      <th>sqft_above</th>\n",
       "      <th>sqft_basement</th>\n",
       "      <th>yr_built</th>\n",
       "      <th>yr_renovated</th>\n",
       "      <th>zipcode</th>\n",
       "      <th>lat</th>\n",
       "      <th>long</th>\n",
       "      <th>sqft_living15</th>\n",
       "      <th>sqft_lot15</th>\n",
       "    </tr>\n",
       "  </thead>\n",
       "  <tbody>\n",
       "    <tr>\n",
       "      <th>0</th>\n",
       "      <td>7129300520</td>\n",
       "      <td>20141013T000000</td>\n",
       "      <td>221900.00</td>\n",
       "      <td>3</td>\n",
       "      <td>1.00</td>\n",
       "      <td>1180</td>\n",
       "      <td>5650</td>\n",
       "      <td>1.00</td>\n",
       "      <td>0</td>\n",
       "      <td>0</td>\n",
       "      <td>3</td>\n",
       "      <td>7</td>\n",
       "      <td>1180</td>\n",
       "      <td>0</td>\n",
       "      <td>1955</td>\n",
       "      <td>0</td>\n",
       "      <td>98178</td>\n",
       "      <td>47.51</td>\n",
       "      <td>-122.26</td>\n",
       "      <td>1340</td>\n",
       "      <td>5650</td>\n",
       "    </tr>\n",
       "    <tr>\n",
       "      <th>1</th>\n",
       "      <td>6414100192</td>\n",
       "      <td>20141209T000000</td>\n",
       "      <td>538000.00</td>\n",
       "      <td>3</td>\n",
       "      <td>2.25</td>\n",
       "      <td>2570</td>\n",
       "      <td>7242</td>\n",
       "      <td>2.00</td>\n",
       "      <td>0</td>\n",
       "      <td>0</td>\n",
       "      <td>3</td>\n",
       "      <td>7</td>\n",
       "      <td>2170</td>\n",
       "      <td>400</td>\n",
       "      <td>1951</td>\n",
       "      <td>1991</td>\n",
       "      <td>98125</td>\n",
       "      <td>47.72</td>\n",
       "      <td>-122.32</td>\n",
       "      <td>1690</td>\n",
       "      <td>7639</td>\n",
       "    </tr>\n",
       "    <tr>\n",
       "      <th>2</th>\n",
       "      <td>5631500400</td>\n",
       "      <td>20150225T000000</td>\n",
       "      <td>180000.00</td>\n",
       "      <td>2</td>\n",
       "      <td>1.00</td>\n",
       "      <td>770</td>\n",
       "      <td>10000</td>\n",
       "      <td>1.00</td>\n",
       "      <td>0</td>\n",
       "      <td>0</td>\n",
       "      <td>3</td>\n",
       "      <td>6</td>\n",
       "      <td>770</td>\n",
       "      <td>0</td>\n",
       "      <td>1933</td>\n",
       "      <td>0</td>\n",
       "      <td>98028</td>\n",
       "      <td>47.74</td>\n",
       "      <td>-122.23</td>\n",
       "      <td>2720</td>\n",
       "      <td>8062</td>\n",
       "    </tr>\n",
       "    <tr>\n",
       "      <th>3</th>\n",
       "      <td>2487200875</td>\n",
       "      <td>20141209T000000</td>\n",
       "      <td>604000.00</td>\n",
       "      <td>4</td>\n",
       "      <td>3.00</td>\n",
       "      <td>1960</td>\n",
       "      <td>5000</td>\n",
       "      <td>1.00</td>\n",
       "      <td>0</td>\n",
       "      <td>0</td>\n",
       "      <td>5</td>\n",
       "      <td>7</td>\n",
       "      <td>1050</td>\n",
       "      <td>910</td>\n",
       "      <td>1965</td>\n",
       "      <td>0</td>\n",
       "      <td>98136</td>\n",
       "      <td>47.52</td>\n",
       "      <td>-122.39</td>\n",
       "      <td>1360</td>\n",
       "      <td>5000</td>\n",
       "    </tr>\n",
       "    <tr>\n",
       "      <th>4</th>\n",
       "      <td>1954400510</td>\n",
       "      <td>20150218T000000</td>\n",
       "      <td>510000.00</td>\n",
       "      <td>3</td>\n",
       "      <td>2.00</td>\n",
       "      <td>1680</td>\n",
       "      <td>8080</td>\n",
       "      <td>1.00</td>\n",
       "      <td>0</td>\n",
       "      <td>0</td>\n",
       "      <td>3</td>\n",
       "      <td>8</td>\n",
       "      <td>1680</td>\n",
       "      <td>0</td>\n",
       "      <td>1987</td>\n",
       "      <td>0</td>\n",
       "      <td>98074</td>\n",
       "      <td>47.62</td>\n",
       "      <td>-122.05</td>\n",
       "      <td>1800</td>\n",
       "      <td>7503</td>\n",
       "    </tr>\n",
       "  </tbody>\n",
       "</table>\n",
       "</div>"
      ],
      "text/plain": [
       "           id             date     price  bedrooms  bathrooms  sqft_living  sqft_lot  floors  waterfront  view  condition  grade  sqft_above  sqft_basement  yr_built  yr_renovated  zipcode   lat    long  sqft_living15  sqft_lot15\n",
       "0  7129300520  20141013T000000 221900.00         3       1.00         1180      5650    1.00           0     0          3      7        1180              0      1955             0    98178 47.51 -122.26           1340        5650\n",
       "1  6414100192  20141209T000000 538000.00         3       2.25         2570      7242    2.00           0     0          3      7        2170            400      1951          1991    98125 47.72 -122.32           1690        7639\n",
       "2  5631500400  20150225T000000 180000.00         2       1.00          770     10000    1.00           0     0          3      6         770              0      1933             0    98028 47.74 -122.23           2720        8062\n",
       "3  2487200875  20141209T000000 604000.00         4       3.00         1960      5000    1.00           0     0          5      7        1050            910      1965             0    98136 47.52 -122.39           1360        5000\n",
       "4  1954400510  20150218T000000 510000.00         3       2.00         1680      8080    1.00           0     0          3      8        1680              0      1987             0    98074 47.62 -122.05           1800        7503"
      ]
     },
     "execution_count": 181,
     "metadata": {},
     "output_type": "execute_result"
    }
   ],
   "source": [
    "df1.head()"
   ]
  },
  {
   "cell_type": "markdown",
   "id": "242a6e1a",
   "metadata": {},
   "source": [
    "### 1.2. Data Types"
   ]
  },
  {
   "cell_type": "code",
   "execution_count": 182,
   "id": "982417a8",
   "metadata": {},
   "outputs": [
    {
     "name": "stdout",
     "output_type": "stream",
     "text": [
      "<class 'pandas.core.frame.DataFrame'>\n",
      "RangeIndex: 21613 entries, 0 to 21612\n",
      "Data columns (total 21 columns):\n",
      " #   Column         Non-Null Count  Dtype         \n",
      "---  ------         --------------  -----         \n",
      " 0   id             21613 non-null  int64         \n",
      " 1   date           21613 non-null  datetime64[ns]\n",
      " 2   price          21613 non-null  float64       \n",
      " 3   bedrooms       21613 non-null  int64         \n",
      " 4   bathrooms      21613 non-null  float64       \n",
      " 5   sqft_living    21613 non-null  int64         \n",
      " 6   sqft_lot       21613 non-null  int64         \n",
      " 7   floors         21613 non-null  float64       \n",
      " 8   waterfront     21613 non-null  int64         \n",
      " 9   view           21613 non-null  int64         \n",
      " 10  condition      21613 non-null  int64         \n",
      " 11  grade          21613 non-null  int64         \n",
      " 12  sqft_above     21613 non-null  int64         \n",
      " 13  sqft_basement  21613 non-null  int64         \n",
      " 14  yr_built       21613 non-null  int64         \n",
      " 15  yr_renovated   21613 non-null  int64         \n",
      " 16  zipcode        21613 non-null  int64         \n",
      " 17  lat            21613 non-null  float64       \n",
      " 18  long           21613 non-null  float64       \n",
      " 19  sqft_living15  21613 non-null  int64         \n",
      " 20  sqft_lot15     21613 non-null  int64         \n",
      "dtypes: datetime64[ns](1), float64(5), int64(15)\n",
      "memory usage: 3.5 MB\n"
     ]
    }
   ],
   "source": [
    "#Transformação da Coluna data de String para Datetime\n",
    "df1['date'] = pd.to_datetime(df1['date'])\n",
    "\n",
    "#Visualização dos dados por tipo.\n",
    "df1.info()"
   ]
  },
  {
   "cell_type": "markdown",
   "id": "041b859f",
   "metadata": {},
   "source": [
    "#### 1.2.1 Transformando a coluna \"Floors\""
   ]
  },
  {
   "cell_type": "code",
   "execution_count": 183,
   "id": "490b0fac",
   "metadata": {},
   "outputs": [
    {
     "data": {
      "text/plain": [
       "<BarContainer object of 21613 artists>"
      ]
     },
     "execution_count": 183,
     "metadata": {},
     "output_type": "execute_result"
    },
    {
     "data": {
      "image/png": "[encoded data removed]",
      "text/plain": [
       "<Figure size 360x360 with 1 Axes>"
      ]
     },
     "metadata": {},
     "output_type": "display_data"
    }
   ],
   "source": [
    "#Convertendo para tipo int\n",
    "df1['floors'] = df1['floors'].astype(int)\n",
    "\n",
    "#plot\n",
    "fig=plt.figure(figsize= (5, 5))\n",
    "plt.bar(x=df1['floors'], height= df1['price'])"
   ]
  },
  {
   "cell_type": "markdown",
   "id": "a3238be5",
   "metadata": {},
   "source": [
    "### 1.3. Check NA"
   ]
  },
  {
   "cell_type": "code",
   "execution_count": 184,
   "id": "174f303c",
   "metadata": {},
   "outputs": [
    {
     "data": {
      "text/plain": [
       "id               0\n",
       "date             0\n",
       "price            0\n",
       "bedrooms         0\n",
       "bathrooms        0\n",
       "sqft_living      0\n",
       "sqft_lot         0\n",
       "floors           0\n",
       "waterfront       0\n",
       "view             0\n",
       "condition        0\n",
       "grade            0\n",
       "sqft_above       0\n",
       "sqft_basement    0\n",
       "yr_built         0\n",
       "yr_renovated     0\n",
       "zipcode          0\n",
       "lat              0\n",
       "long             0\n",
       "sqft_living15    0\n",
       "sqft_lot15       0\n",
       "dtype: int64"
      ]
     },
     "execution_count": 184,
     "metadata": {},
     "output_type": "execute_result"
    }
   ],
   "source": [
    "df1.isnull().sum()"
   ]
  },
  {
   "cell_type": "markdown",
   "id": "f4ddec33",
   "metadata": {},
   "source": [
    "#### 1.3.1. Fillout NA"
   ]
  },
  {
   "cell_type": "code",
   "execution_count": 185,
   "id": "66bb2eb8",
   "metadata": {},
   "outputs": [],
   "source": [
    "df1 = df1.dropna(axis=0)"
   ]
  },
  {
   "cell_type": "code",
   "execution_count": 186,
   "id": "493bdd7a",
   "metadata": {},
   "outputs": [
    {
     "data": {
      "text/plain": [
       "id               0\n",
       "date             0\n",
       "price            0\n",
       "bedrooms         0\n",
       "bathrooms        0\n",
       "sqft_living      0\n",
       "sqft_lot         0\n",
       "floors           0\n",
       "waterfront       0\n",
       "view             0\n",
       "condition        0\n",
       "grade            0\n",
       "sqft_above       0\n",
       "sqft_basement    0\n",
       "yr_built         0\n",
       "yr_renovated     0\n",
       "zipcode          0\n",
       "lat              0\n",
       "long             0\n",
       "sqft_living15    0\n",
       "sqft_lot15       0\n",
       "dtype: int64"
      ]
     },
     "execution_count": 186,
     "metadata": {},
     "output_type": "execute_result"
    }
   ],
   "source": [
    "df1.isna().sum()"
   ]
  },
  {
   "cell_type": "markdown",
   "id": "fda1accf",
   "metadata": {},
   "source": [
    "### 1.4. Vericando Outliers"
   ]
  },
  {
   "cell_type": "code",
   "execution_count": 187,
   "id": "2ce1842b",
   "metadata": {},
   "outputs": [],
   "source": [
    "boxplot= df1[['bedrooms', 'bathrooms', 'floors','view', 'condition', 'grade']]\n"
   ]
  },
  {
   "cell_type": "code",
   "execution_count": 188,
   "id": "834886f1",
   "metadata": {},
   "outputs": [
    {
     "data": {
      "image/png": "[encoded data removed]",
      "text/plain": [
       "<Figure size 720x504 with 1 Axes>"
      ]
     },
     "metadata": {},
     "output_type": "display_data"
    }
   ],
   "source": [
    "fig = plt.figure(figsize= (10, 7))\n",
    "\n",
    "plt.boxplot(boxplot)\n",
    "\n",
    "plt.show()"
   ]
  },
  {
   "cell_type": "code",
   "execution_count": 189,
   "id": "41fb2c69",
   "metadata": {},
   "outputs": [],
   "source": [
    "# Remoção do outlines\n",
    "df1[df1['bedrooms']== 33]\n",
    "df1.drop(df1[df1['bedrooms']== 33].index, inplace=True)"
   ]
  },
  {
   "cell_type": "markdown",
   "id": "3672f420",
   "metadata": {},
   "source": [
    "### 1.5. Descriptive Statistical"
   ]
  },
  {
   "cell_type": "code",
   "execution_count": 190,
   "id": "2b1513b8",
   "metadata": {},
   "outputs": [],
   "source": [
    "# Variáveis númericas\n",
    "num_attributes = df1.select_dtypes(include=['int64', 'float64'])\n"
   ]
  },
  {
   "cell_type": "markdown",
   "id": "f01bfc8d",
   "metadata": {},
   "source": [
    "#### 1.5.1 Numerical Attributes"
   ]
  },
  {
   "cell_type": "code",
   "execution_count": 191,
   "id": "2986b0c1",
   "metadata": {},
   "outputs": [],
   "source": [
    "# Central Tendency -> mean, median\n",
    "ct1 = pd.DataFrame(num_attributes.apply(np.mean)).T\n",
    "ct2 = pd.DataFrame(num_attributes.apply(np.median)).T\n",
    "\n",
    "# Dispersion - std, min, max, skew, kurtosis\n",
    "d1 = pd.DataFrame(num_attributes.apply(np.std)).T\n",
    "d2 = pd.DataFrame(num_attributes.apply(min)).T\n",
    "d3 = pd.DataFrame(num_attributes.apply(max)).T\n",
    "d4 = pd.DataFrame(num_attributes.apply(lambda x: x.max() - x.min())).T\n",
    "d5 = pd.DataFrame(num_attributes.apply(lambda x: x.skew())).T\n",
    "d6 = pd.DataFrame(num_attributes.apply(lambda x: x.kurtosis())).T\n",
    "\n",
    "\n",
    "# concatenate\n",
    "m = pd.concat([d2, d3, d4, ct1, ct2, d1, d5, d6]).T.reset_index()\n",
    "m.columns = (['attibutes', 'min', 'max', 'range', 'mean', 'median', 'std', 'skew', 'kurtosis'])"
   ]
  },
  {
   "cell_type": "code",
   "execution_count": 192,
   "id": "d1bcdc15",
   "metadata": {},
   "outputs": [
    {
     "data": {
      "text/html": [
       "<div>\n",
       "<style scoped>\n",
       "    .dataframe tbody tr th:only-of-type {\n",
       "        vertical-align: middle;\n",
       "    }\n",
       "\n",
       "    .dataframe tbody tr th {\n",
       "        vertical-align: top;\n",
       "    }\n",
       "\n",
       "    .dataframe thead th {\n",
       "        text-align: right;\n",
       "    }\n",
       "</style>\n",
       "<table border=\"1\" class=\"dataframe\">\n",
       "  <thead>\n",
       "    <tr style=\"text-align: right;\">\n",
       "      <th></th>\n",
       "      <th>attibutes</th>\n",
       "      <th>min</th>\n",
       "      <th>max</th>\n",
       "      <th>range</th>\n",
       "      <th>mean</th>\n",
       "      <th>median</th>\n",
       "      <th>std</th>\n",
       "      <th>skew</th>\n",
       "      <th>kurtosis</th>\n",
       "    </tr>\n",
       "  </thead>\n",
       "  <tbody>\n",
       "    <tr>\n",
       "      <th>0</th>\n",
       "      <td>id</td>\n",
       "      <td>1000102.00</td>\n",
       "      <td>9900000190.00</td>\n",
       "      <td>9899000088.00</td>\n",
       "      <td>4580402307.49</td>\n",
       "      <td>3904930470.00</td>\n",
       "      <td>2876527410.33</td>\n",
       "      <td>0.24</td>\n",
       "      <td>-1.26</td>\n",
       "    </tr>\n",
       "    <tr>\n",
       "      <th>1</th>\n",
       "      <td>price</td>\n",
       "      <td>75000.00</td>\n",
       "      <td>7700000.00</td>\n",
       "      <td>7625000.00</td>\n",
       "      <td>540083.52</td>\n",
       "      <td>450000.00</td>\n",
       "      <td>367126.57</td>\n",
       "      <td>4.02</td>\n",
       "      <td>34.58</td>\n",
       "    </tr>\n",
       "    <tr>\n",
       "      <th>2</th>\n",
       "      <td>bedrooms</td>\n",
       "      <td>0.00</td>\n",
       "      <td>11.00</td>\n",
       "      <td>11.00</td>\n",
       "      <td>3.37</td>\n",
       "      <td>3.00</td>\n",
       "      <td>0.91</td>\n",
       "      <td>0.52</td>\n",
       "      <td>1.84</td>\n",
       "    </tr>\n",
       "    <tr>\n",
       "      <th>3</th>\n",
       "      <td>bathrooms</td>\n",
       "      <td>0.00</td>\n",
       "      <td>8.00</td>\n",
       "      <td>8.00</td>\n",
       "      <td>2.11</td>\n",
       "      <td>2.25</td>\n",
       "      <td>0.77</td>\n",
       "      <td>0.51</td>\n",
       "      <td>1.28</td>\n",
       "    </tr>\n",
       "    <tr>\n",
       "      <th>4</th>\n",
       "      <td>sqft_living</td>\n",
       "      <td>290.00</td>\n",
       "      <td>13540.00</td>\n",
       "      <td>13250.00</td>\n",
       "      <td>2079.92</td>\n",
       "      <td>1910.00</td>\n",
       "      <td>918.44</td>\n",
       "      <td>1.47</td>\n",
       "      <td>5.24</td>\n",
       "    </tr>\n",
       "    <tr>\n",
       "      <th>5</th>\n",
       "      <td>sqft_lot</td>\n",
       "      <td>520.00</td>\n",
       "      <td>1651359.00</td>\n",
       "      <td>1650839.00</td>\n",
       "      <td>15107.39</td>\n",
       "      <td>7619.00</td>\n",
       "      <td>41420.47</td>\n",
       "      <td>13.06</td>\n",
       "      <td>285.07</td>\n",
       "    </tr>\n",
       "    <tr>\n",
       "      <th>6</th>\n",
       "      <td>floors</td>\n",
       "      <td>1.00</td>\n",
       "      <td>3.00</td>\n",
       "      <td>2.00</td>\n",
       "      <td>1.45</td>\n",
       "      <td>1.00</td>\n",
       "      <td>0.55</td>\n",
       "      <td>0.73</td>\n",
       "      <td>-0.55</td>\n",
       "    </tr>\n",
       "    <tr>\n",
       "      <th>7</th>\n",
       "      <td>waterfront</td>\n",
       "      <td>0.00</td>\n",
       "      <td>1.00</td>\n",
       "      <td>1.00</td>\n",
       "      <td>0.01</td>\n",
       "      <td>0.00</td>\n",
       "      <td>0.09</td>\n",
       "      <td>11.38</td>\n",
       "      <td>127.63</td>\n",
       "    </tr>\n",
       "    <tr>\n",
       "      <th>8</th>\n",
       "      <td>view</td>\n",
       "      <td>0.00</td>\n",
       "      <td>4.00</td>\n",
       "      <td>4.00</td>\n",
       "      <td>0.23</td>\n",
       "      <td>0.00</td>\n",
       "      <td>0.77</td>\n",
       "      <td>3.40</td>\n",
       "      <td>10.89</td>\n",
       "    </tr>\n",
       "    <tr>\n",
       "      <th>9</th>\n",
       "      <td>condition</td>\n",
       "      <td>1.00</td>\n",
       "      <td>5.00</td>\n",
       "      <td>4.00</td>\n",
       "      <td>3.41</td>\n",
       "      <td>3.00</td>\n",
       "      <td>0.65</td>\n",
       "      <td>1.03</td>\n",
       "      <td>0.53</td>\n",
       "    </tr>\n",
       "    <tr>\n",
       "      <th>10</th>\n",
       "      <td>grade</td>\n",
       "      <td>1.00</td>\n",
       "      <td>13.00</td>\n",
       "      <td>12.00</td>\n",
       "      <td>7.66</td>\n",
       "      <td>7.00</td>\n",
       "      <td>1.18</td>\n",
       "      <td>0.77</td>\n",
       "      <td>1.19</td>\n",
       "    </tr>\n",
       "    <tr>\n",
       "      <th>11</th>\n",
       "      <td>sqft_above</td>\n",
       "      <td>290.00</td>\n",
       "      <td>9410.00</td>\n",
       "      <td>9120.00</td>\n",
       "      <td>1788.43</td>\n",
       "      <td>1560.00</td>\n",
       "      <td>828.08</td>\n",
       "      <td>1.45</td>\n",
       "      <td>3.40</td>\n",
       "    </tr>\n",
       "    <tr>\n",
       "      <th>12</th>\n",
       "      <td>sqft_basement</td>\n",
       "      <td>0.00</td>\n",
       "      <td>4820.00</td>\n",
       "      <td>4820.00</td>\n",
       "      <td>291.50</td>\n",
       "      <td>0.00</td>\n",
       "      <td>442.57</td>\n",
       "      <td>1.58</td>\n",
       "      <td>2.72</td>\n",
       "    </tr>\n",
       "    <tr>\n",
       "      <th>13</th>\n",
       "      <td>yr_built</td>\n",
       "      <td>1900.00</td>\n",
       "      <td>2015.00</td>\n",
       "      <td>115.00</td>\n",
       "      <td>1971.01</td>\n",
       "      <td>1975.00</td>\n",
       "      <td>29.37</td>\n",
       "      <td>-0.47</td>\n",
       "      <td>-0.66</td>\n",
       "    </tr>\n",
       "    <tr>\n",
       "      <th>14</th>\n",
       "      <td>yr_renovated</td>\n",
       "      <td>0.00</td>\n",
       "      <td>2015.00</td>\n",
       "      <td>2015.00</td>\n",
       "      <td>84.41</td>\n",
       "      <td>0.00</td>\n",
       "      <td>401.68</td>\n",
       "      <td>4.55</td>\n",
       "      <td>18.70</td>\n",
       "    </tr>\n",
       "    <tr>\n",
       "      <th>15</th>\n",
       "      <td>zipcode</td>\n",
       "      <td>98001.00</td>\n",
       "      <td>98199.00</td>\n",
       "      <td>198.00</td>\n",
       "      <td>98077.94</td>\n",
       "      <td>98065.00</td>\n",
       "      <td>53.50</td>\n",
       "      <td>0.41</td>\n",
       "      <td>-0.85</td>\n",
       "    </tr>\n",
       "    <tr>\n",
       "      <th>16</th>\n",
       "      <td>lat</td>\n",
       "      <td>47.16</td>\n",
       "      <td>47.78</td>\n",
       "      <td>0.62</td>\n",
       "      <td>47.56</td>\n",
       "      <td>47.57</td>\n",
       "      <td>0.14</td>\n",
       "      <td>-0.49</td>\n",
       "      <td>-0.68</td>\n",
       "    </tr>\n",
       "    <tr>\n",
       "      <th>17</th>\n",
       "      <td>long</td>\n",
       "      <td>-122.52</td>\n",
       "      <td>-121.31</td>\n",
       "      <td>1.20</td>\n",
       "      <td>-122.21</td>\n",
       "      <td>-122.23</td>\n",
       "      <td>0.14</td>\n",
       "      <td>0.88</td>\n",
       "      <td>1.05</td>\n",
       "    </tr>\n",
       "    <tr>\n",
       "      <th>18</th>\n",
       "      <td>sqft_living15</td>\n",
       "      <td>399.00</td>\n",
       "      <td>6210.00</td>\n",
       "      <td>5811.00</td>\n",
       "      <td>1986.58</td>\n",
       "      <td>1840.00</td>\n",
       "      <td>685.38</td>\n",
       "      <td>1.11</td>\n",
       "      <td>1.60</td>\n",
       "    </tr>\n",
       "    <tr>\n",
       "      <th>19</th>\n",
       "      <td>sqft_lot15</td>\n",
       "      <td>651.00</td>\n",
       "      <td>871200.00</td>\n",
       "      <td>870549.00</td>\n",
       "      <td>12768.83</td>\n",
       "      <td>7620.00</td>\n",
       "      <td>27304.12</td>\n",
       "      <td>9.51</td>\n",
       "      <td>150.76</td>\n",
       "    </tr>\n",
       "  </tbody>\n",
       "</table>\n",
       "</div>"
      ],
      "text/plain": [
       "        attibutes        min           max         range          mean        median           std  skew  kurtosis\n",
       "0              id 1000102.00 9900000190.00 9899000088.00 4580402307.49 3904930470.00 2876527410.33  0.24     -1.26\n",
       "1           price   75000.00    7700000.00    7625000.00     540083.52     450000.00     367126.57  4.02     34.58\n",
       "2        bedrooms       0.00         11.00         11.00          3.37          3.00          0.91  0.52      1.84\n",
       "3       bathrooms       0.00          8.00          8.00          2.11          2.25          0.77  0.51      1.28\n",
       "4     sqft_living     290.00      13540.00      13250.00       2079.92       1910.00        918.44  1.47      5.24\n",
       "5        sqft_lot     520.00    1651359.00    1650839.00      15107.39       7619.00      41420.47 13.06    285.07\n",
       "6          floors       1.00          3.00          2.00          1.45          1.00          0.55  0.73     -0.55\n",
       "7      waterfront       0.00          1.00          1.00          0.01          0.00          0.09 11.38    127.63\n",
       "8            view       0.00          4.00          4.00          0.23          0.00          0.77  3.40     10.89\n",
       "9       condition       1.00          5.00          4.00          3.41          3.00          0.65  1.03      0.53\n",
       "10          grade       1.00         13.00         12.00          7.66          7.00          1.18  0.77      1.19\n",
       "11     sqft_above     290.00       9410.00       9120.00       1788.43       1560.00        828.08  1.45      3.40\n",
       "12  sqft_basement       0.00       4820.00       4820.00        291.50          0.00        442.57  1.58      2.72\n",
       "13       yr_built    1900.00       2015.00        115.00       1971.01       1975.00         29.37 -0.47     -0.66\n",
       "14   yr_renovated       0.00       2015.00       2015.00         84.41          0.00        401.68  4.55     18.70\n",
       "15        zipcode   98001.00      98199.00        198.00      98077.94      98065.00         53.50  0.41     -0.85\n",
       "16            lat      47.16         47.78          0.62         47.56         47.57          0.14 -0.49     -0.68\n",
       "17           long    -122.52       -121.31          1.20       -122.21       -122.23          0.14  0.88      1.05\n",
       "18  sqft_living15     399.00       6210.00       5811.00       1986.58       1840.00        685.38  1.11      1.60\n",
       "19     sqft_lot15     651.00     871200.00     870549.00      12768.83       7620.00      27304.12  9.51    150.76"
      ]
     },
     "execution_count": 192,
     "metadata": {},
     "output_type": "execute_result"
    }
   ],
   "source": [
    "m"
   ]
  },
  {
   "cell_type": "code",
   "execution_count": 193,
   "id": "ef5e09e1",
   "metadata": {},
   "outputs": [
    {
     "data": {
      "image/png": "[encoded data removed]",
      "text/plain": [
       "<Figure size 1800x864 with 20 Axes>"
      ]
     },
     "metadata": {},
     "output_type": "display_data"
    }
   ],
   "source": [
    "num_attributes.hist(bins=25);"
   ]
  },
  {
   "cell_type": "markdown",
   "id": "9449fe45",
   "metadata": {},
   "source": [
    "## 2.0. Feature Engineering"
   ]
  },
  {
   "cell_type": "code",
   "execution_count": 194,
   "id": "4ec1142d",
   "metadata": {},
   "outputs": [],
   "source": [
    "df2 = df1.copy()"
   ]
  },
  {
   "cell_type": "markdown",
   "id": "9acc5ed7",
   "metadata": {},
   "source": [
    "#### 2.1. Criação das Hipóteses"
   ]
  },
  {
   "cell_type": "markdown",
   "id": "cf3b608d",
   "metadata": {},
   "source": [
    "Hipoteses:\n",
    "\n",
    "- H1: Imóvies que possuem vista para água, são 30% mais caros, na media\n",
    "- H2: Imóveis com data de construção menor que 1955, são 50% mais baratos, na média.\n",
    "- H3: Imóveis sem porão possuem área toral(sqrt_lot), são 40% maiores do que os imoveis com porão.\n",
    "- H4: O crescimento do preço dos imoveis YoY(Year over Year) é de 10%.\n",
    "- H5: Imóveis com 3 banheiros tem um crescimento de MoM (Month over Month) de 15%.\n",
    "- H6: Imóveis reformados são 30% mais caro na média..\n",
    "- H7: Imoveis vendem 30% mais no verão.\n",
    "- H8: Imoveis são 15% mais caro no verão.\n"
   ]
  },
  {
   "cell_type": "markdown",
   "id": "e804bb64",
   "metadata": {},
   "source": [
    "### 2.3. Feature Engineering"
   ]
  },
  {
   "cell_type": "code",
   "execution_count": 234,
   "id": "74f37ea9",
   "metadata": {},
   "outputs": [],
   "source": [
    "\n",
    "# Delimitador entre imoveis antigos, e novos(anteriores a 1958 serão considerados antigos)\n",
    "df2.loc[df2['yr_built'] < 1955, 'age_house']= 'old'\n",
    "df2.loc[df2['yr_built'] > 1955, 'age_house']= 'new'\n",
    "\n",
    "# Imoveis com o sem Porão\n",
    "df2.loc[df2['sqft_basement'] == 0, 'basement'] = 'no'\n",
    "df2.loc[df2['sqft_basement'] > 0, 'basement'] = 'yes'\n",
    "\n",
    "# Criação de uma nova coluna com o ano da publicação de imovel para venda\n",
    "df2['year'] = pd.to_datetime(df2['date']).dt.year\n",
    "\n",
    "\n",
    "# Criação de uma nova coluna contendo apenas o mês da publicação do imovel a venda\n",
    "df2['month'] = pd.to_datetime(df2['date']).dt.month\n",
    "df2['month_name'] = pd.to_datetime(df2['date']).dt.month_name()\n",
    "\n",
    "# Criação de uma coluna  discriminando se o imovel foi ou não reformado \n",
    "df2.loc[df2['yr_renovated'] == 0, 'renovated'] = 'no'\n",
    "df2.loc[df2['yr_renovated'] > 0, 'renovated'] = 'yes'\n",
    "# Coluna discriminando as estações do ano em imovel foi publicado a venda\n",
    "df2.loc[(df2['month'] >=6) & (df2['month'] <=8), 'season'] = 'summer'\n",
    "df2.loc[(df2['month'] >=9) & (df2['month'] <=11), 'season'] = 'autumn'\n",
    "df2.loc[(df2['month'] == 12) | (df2['month'] <=2),'season'] = 'winter'\n",
    "df2.loc[(df2['month'] >=3) & (df2['month'] <=5), 'season'] = 'spring'"
   ]
  },
  {
   "cell_type": "markdown",
   "id": "1a0da346",
   "metadata": {},
   "source": [
    "## 3.0. Analise Exploratória dos Dados"
   ]
  },
  {
   "cell_type": "code",
   "execution_count": 196,
   "id": "1a32de72",
   "metadata": {},
   "outputs": [],
   "source": [
    "df3 = df2.copy()"
   ]
  },
  {
   "cell_type": "markdown",
   "id": "3e31f36f",
   "metadata": {},
   "source": [
    "H1: Imóvies que possuem vista para água, são 30% mais caros, na media"
   ]
  },
  {
   "cell_type": "code",
   "execution_count": 257,
   "id": "386b71ff",
   "metadata": {},
   "outputs": [
    {
     "name": "stdout",
     "output_type": "stream",
     "text": [
      " A Hipótese é Verdadeira, pois imóveis com visão para o mar são na média 212.64% mais caros que os demais.\n"
     ]
    },
    {
     "data": {
      "text/plain": [
       "<AxesSubplot:xlabel='waterfront', ylabel='price'>"
      ]
     },
     "execution_count": 257,
     "metadata": {},
     "output_type": "execute_result"
    },
    {
     "data": {
      "image/png": "[encoded data removed]",
      "text/plain": [
       "<Figure size 720x576 with 1 Axes>"
      ]
     },
     "metadata": {},
     "output_type": "display_data"
    }
   ],
   "source": [
    "# H1: Imóvies que possuem vista para água, são 30% mais caros na media\n",
    "\n",
    "h1= df3[['waterfront','price']].groupby(['waterfront']).mean().reset_index()\n",
    "\n",
    "# função do percentual\n",
    "h1_p = calculo_percentual(df=h1, coluna='price')\n",
    "\n",
    "# Analise da Hipótese\n",
    "print(' A Hipótese é Verdadeira, pois imóveis com visão para o mar são na média {:.2f}% mais caros que os demais.'.format(h1_p))\n",
    "\n",
    "# plot\n",
    "sns.barplot(x='waterfront', y='price', data=h1, color = \"salmon\")\n",
    "\n"
   ]
  },
  {
   "cell_type": "markdown",
   "id": "35362e31",
   "metadata": {},
   "source": [
    "H2: Imóveis com data de construção menor que 1955, são 50% mais baratos, na média."
   ]
  },
  {
   "cell_type": "code",
   "execution_count": 249,
   "id": "4257818f",
   "metadata": {},
   "outputs": [
    {
     "name": "stdout",
     "output_type": "stream",
     "text": [
      " A Hipótese é falsa, pois imóveis com data de construção menor que 1955 são na média 2.94% mais barato.\n"
     ]
    },
    {
     "data": {
      "application/vnd.plotly.v1+json": {
       "config": {
        "plotlyServerURL": "https://plot.ly"
       },
       "data": [
        {
         "alignmentgroup": "True",
         "hovertemplate": "age_house=%{x}<br>price=%{y}<extra></extra>",
         "legendgroup": "",
         "marker": {
          "color": "#636efa",
          "pattern": {
           "shape": ""
          }
         },
         "name": "",
         "offsetgroup": "",
         "orientation": "v",
         "showlegend": false,
         "textposition": "auto",
         "type": "bar",
         "x": [
          "new",
          "old"
         ],
         "xaxis": "x",
         "y": [
          545755.2391125155,
          530158.2778916545
         ],
         "yaxis": "y"
        }
       ],
       "layout": {
        "barmode": "relative",
        "height": 400,
        "legend": {
         "tracegroupgap": 0
        },
        "margin": {
         "b": 20,
         "l": 120,
         "r": 20,
         "t": 20
        },
        "paper_bgcolor": "#f7f8fa",
        "template": {
         "data": {
          "bar": [
           {
            "error_x": {
             "color": "rgb(36,36,36)"
            },
            "error_y": {
             "color": "rgb(36,36,36)"
            },
            "marker": {
             "line": {
              "color": "white",
              "width": 0.5
             },
             "pattern": {
              "fillmode": "overlay",
              "size": 10,
              "solidity": 0.2
             }
            },
            "type": "bar"
           }
          ],
          "barpolar": [
           {
            "marker": {
             "line": {
              "color": "white",
              "width": 0.5
             },
             "pattern": {
              "fillmode": "overlay",
              "size": 10,
              "solidity": 0.2
             }
            },
            "type": "barpolar"
           }
          ],
          "carpet": [
           {
            "aaxis": {
             "endlinecolor": "rgb(36,36,36)",
             "gridcolor": "white",
             "linecolor": "white",
             "minorgridcolor": "white",
             "startlinecolor": "rgb(36,36,36)"
            },
            "baxis": {
             "endlinecolor": "rgb(36,36,36)",
             "gridcolor": "white",
             "linecolor": "white",
             "minorgridcolor": "white",
             "startlinecolor": "rgb(36,36,36)"
            },
            "type": "carpet"
           }
          ],
          "choropleth": [
           {
            "colorbar": {
             "outlinewidth": 1,
             "tickcolor": "rgb(36,36,36)",
             "ticks": "outside"
            },
            "type": "choropleth"
           }
          ],
          "contour": [
           {
            "colorbar": {
             "outlinewidth": 1,
             "tickcolor": "rgb(36,36,36)",
             "ticks": "outside"
            },
            "colorscale": [
             [
              0,
              "#440154"
             ],
             [
              0.1111111111111111,
              "#482878"
             ],
             [
              0.2222222222222222,
              "#3e4989"
             ],
             [
              0.3333333333333333,
              "#31688e"
             ],
             [
              0.4444444444444444,
              "#26828e"
             ],
             [
              0.5555555555555556,
              "#1f9e89"
             ],
             [
              0.6666666666666666,
              "#35b779"
             ],
             [
              0.7777777777777778,
              "#6ece58"
             ],
             [
              0.8888888888888888,
              "#b5de2b"
             ],
             [
              1,
              "#fde725"
             ]
            ],
            "type": "contour"
           }
          ],
          "contourcarpet": [
           {
            "colorbar": {
             "outlinewidth": 1,
             "tickcolor": "rgb(36,36,36)",
             "ticks": "outside"
            },
            "type": "contourcarpet"
           }
          ],
          "heatmap": [
           {
            "colorbar": {
             "outlinewidth": 1,
             "tickcolor": "rgb(36,36,36)",
             "ticks": "outside"
            },
            "colorscale": [
             [
              0,
              "#440154"
             ],
             [
              0.1111111111111111,
              "#482878"
             ],
             [
              0.2222222222222222,
              "#3e4989"
             ],
             [
              0.3333333333333333,
              "#31688e"
             ],
             [
              0.4444444444444444,
              "#26828e"
             ],
             [
              0.5555555555555556,
              "#1f9e89"
             ],
             [
              0.6666666666666666,
              "#35b779"
             ],
             [
              0.7777777777777778,
              "#6ece58"
             ],
             [
              0.8888888888888888,
              "#b5de2b"
             ],
             [
              1,
              "#fde725"
             ]
            ],
            "type": "heatmap"
           }
          ],
          "heatmapgl": [
           {
            "colorbar": {
             "outlinewidth": 1,
             "tickcolor": "rgb(36,36,36)",
             "ticks": "outside"
            },
            "colorscale": [
             [
              0,
              "#440154"
             ],
             [
              0.1111111111111111,
              "#482878"
             ],
             [
              0.2222222222222222,
              "#3e4989"
             ],
             [
              0.3333333333333333,
              "#31688e"
             ],
             [
              0.4444444444444444,
              "#26828e"
             ],
             [
              0.5555555555555556,
              "#1f9e89"
             ],
             [
              0.6666666666666666,
              "#35b779"
             ],
             [
              0.7777777777777778,
              "#6ece58"
             ],
             [
              0.8888888888888888,
              "#b5de2b"
             ],
             [
              1,
              "#fde725"
             ]
            ],
            "type": "heatmapgl"
           }
          ],
          "histogram": [
           {
            "marker": {
             "line": {
              "color": "white",
              "width": 0.6
             }
            },
            "type": "histogram"
           }
          ],
          "histogram2d": [
           {
            "colorbar": {
             "outlinewidth": 1,
             "tickcolor": "rgb(36,36,36)",
             "ticks": "outside"
            },
            "colorscale": [
             [
              0,
              "#440154"
             ],
             [
              0.1111111111111111,
              "#482878"
             ],
             [
              0.2222222222222222,
              "#3e4989"
             ],
             [
              0.3333333333333333,
              "#31688e"
             ],
             [
              0.4444444444444444,
              "#26828e"
             ],
             [
              0.5555555555555556,
              "#1f9e89"
             ],
             [
              0.6666666666666666,
              "#35b779"
             ],
             [
              0.7777777777777778,
              "#6ece58"
             ],
             [
              0.8888888888888888,
              "#b5de2b"
             ],
             [
              1,
              "#fde725"
             ]
            ],
            "type": "histogram2d"
           }
          ],
          "histogram2dcontour": [
           {
            "colorbar": {
             "outlinewidth": 1,
             "tickcolor": "rgb(36,36,36)",
             "ticks": "outside"
            },
            "colorscale": [
             [
              0,
              "#440154"
             ],
             [
              0.1111111111111111,
              "#482878"
             ],
             [
              0.2222222222222222,
              "#3e4989"
             ],
             [
              0.3333333333333333,
              "#31688e"
             ],
             [
              0.4444444444444444,
              "#26828e"
             ],
             [
              0.5555555555555556,
              "#1f9e89"
             ],
             [
              0.6666666666666666,
              "#35b779"
             ],
             [
              0.7777777777777778,
              "#6ece58"
             ],
             [
              0.8888888888888888,
              "#b5de2b"
             ],
             [
              1,
              "#fde725"
             ]
            ],
            "type": "histogram2dcontour"
           }
          ],
          "mesh3d": [
           {
            "colorbar": {
             "outlinewidth": 1,
             "tickcolor": "rgb(36,36,36)",
             "ticks": "outside"
            },
            "type": "mesh3d"
           }
          ],
          "parcoords": [
           {
            "line": {
             "colorbar": {
              "outlinewidth": 1,
              "tickcolor": "rgb(36,36,36)",
              "ticks": "outside"
             }
            },
            "type": "parcoords"
           }
          ],
          "pie": [
           {
            "automargin": true,
            "type": "pie"
           }
          ],
          "scatter": [
           {
            "fillpattern": {
             "fillmode": "overlay",
             "size": 10,
             "solidity": 0.2
            },
            "type": "scatter"
           }
          ],
          "scatter3d": [
           {
            "line": {
             "colorbar": {
              "outlinewidth": 1,
              "tickcolor": "rgb(36,36,36)",
              "ticks": "outside"
             }
            },
            "marker": {
             "colorbar": {
              "outlinewidth": 1,
              "tickcolor": "rgb(36,36,36)",
              "ticks": "outside"
             }
            },
            "type": "scatter3d"
           }
          ],
          "scattercarpet": [
           {
            "marker": {
             "colorbar": {
              "outlinewidth": 1,
              "tickcolor": "rgb(36,36,36)",
              "ticks": "outside"
             }
            },
            "type": "scattercarpet"
           }
          ],
          "scattergeo": [
           {
            "marker": {
             "colorbar": {
              "outlinewidth": 1,
              "tickcolor": "rgb(36,36,36)",
              "ticks": "outside"
             }
            },
            "type": "scattergeo"
           }
          ],
          "scattergl": [
           {
            "marker": {
             "colorbar": {
              "outlinewidth": 1,
              "tickcolor": "rgb(36,36,36)",
              "ticks": "outside"
             }
            },
            "type": "scattergl"
           }
          ],
          "scattermapbox": [
           {
            "marker": {
             "colorbar": {
              "outlinewidth": 1,
              "tickcolor": "rgb(36,36,36)",
              "ticks": "outside"
             }
            },
            "type": "scattermapbox"
           }
          ],
          "scatterpolar": [
           {
            "marker": {
             "colorbar": {
              "outlinewidth": 1,
              "tickcolor": "rgb(36,36,36)",
              "ticks": "outside"
             }
            },
            "type": "scatterpolar"
           }
          ],
          "scatterpolargl": [
           {
            "marker": {
             "colorbar": {
              "outlinewidth": 1,
              "tickcolor": "rgb(36,36,36)",
              "ticks": "outside"
             }
            },
            "type": "scatterpolargl"
           }
          ],
          "scatterternary": [
           {
            "marker": {
             "colorbar": {
              "outlinewidth": 1,
              "tickcolor": "rgb(36,36,36)",
              "ticks": "outside"
             }
            },
            "type": "scatterternary"
           }
          ],
          "surface": [
           {
            "colorbar": {
             "outlinewidth": 1,
             "tickcolor": "rgb(36,36,36)",
             "ticks": "outside"
            },
            "colorscale": [
             [
              0,
              "#440154"
             ],
             [
              0.1111111111111111,
              "#482878"
             ],
             [
              0.2222222222222222,
              "#3e4989"
             ],
             [
              0.3333333333333333,
              "#31688e"
             ],
             [
              0.4444444444444444,
              "#26828e"
             ],
             [
              0.5555555555555556,
              "#1f9e89"
             ],
             [
              0.6666666666666666,
              "#35b779"
             ],
             [
              0.7777777777777778,
              "#6ece58"
             ],
             [
              0.8888888888888888,
              "#b5de2b"
             ],
             [
              1,
              "#fde725"
             ]
            ],
            "type": "surface"
           }
          ],
          "table": [
           {
            "cells": {
             "fill": {
              "color": "rgb(237,237,237)"
             },
             "line": {
              "color": "white"
             }
            },
            "header": {
             "fill": {
              "color": "rgb(217,217,217)"
             },
             "line": {
              "color": "white"
             }
            },
            "type": "table"
           }
          ]
         },
         "layout": {
          "annotationdefaults": {
           "arrowhead": 0,
           "arrowwidth": 1
          },
          "autotypenumbers": "strict",
          "coloraxis": {
           "colorbar": {
            "outlinewidth": 1,
            "tickcolor": "rgb(36,36,36)",
            "ticks": "outside"
           }
          },
          "colorscale": {
           "diverging": [
            [
             0,
             "rgb(103,0,31)"
            ],
            [
             0.1,
             "rgb(178,24,43)"
            ],
            [
             0.2,
             "rgb(214,96,77)"
            ],
            [
             0.3,
             "rgb(244,165,130)"
            ],
            [
             0.4,
             "rgb(253,219,199)"
            ],
            [
             0.5,
             "rgb(247,247,247)"
            ],
            [
             0.6,
             "rgb(209,229,240)"
            ],
            [
             0.7,
             "rgb(146,197,222)"
            ],
            [
             0.8,
             "rgb(67,147,195)"
            ],
            [
             0.9,
             "rgb(33,102,172)"
            ],
            [
             1,
             "rgb(5,48,97)"
            ]
           ],
           "sequential": [
            [
             0,
             "#440154"
            ],
            [
             0.1111111111111111,
             "#482878"
            ],
            [
             0.2222222222222222,
             "#3e4989"
            ],
            [
             0.3333333333333333,
             "#31688e"
            ],
            [
             0.4444444444444444,
             "#26828e"
            ],
            [
             0.5555555555555556,
             "#1f9e89"
            ],
            [
             0.6666666666666666,
             "#35b779"
            ],
            [
             0.7777777777777778,
             "#6ece58"
            ],
            [
             0.8888888888888888,
             "#b5de2b"
            ],
            [
             1,
             "#fde725"
            ]
           ],
           "sequentialminus": [
            [
             0,
             "#440154"
            ],
            [
             0.1111111111111111,
             "#482878"
            ],
            [
             0.2222222222222222,
             "#3e4989"
            ],
            [
             0.3333333333333333,
             "#31688e"
            ],
            [
             0.4444444444444444,
             "#26828e"
            ],
            [
             0.5555555555555556,
             "#1f9e89"
            ],
            [
             0.6666666666666666,
             "#35b779"
            ],
            [
             0.7777777777777778,
             "#6ece58"
            ],
            [
             0.8888888888888888,
             "#b5de2b"
            ],
            [
             1,
             "#fde725"
            ]
           ]
          },
          "colorway": [
           "#1F77B4",
           "#FF7F0E",
           "#2CA02C",
           "#D62728",
           "#9467BD",
           "#8C564B",
           "#E377C2",
           "#7F7F7F",
           "#BCBD22",
           "#17BECF"
          ],
          "font": {
           "color": "rgb(36,36,36)"
          },
          "geo": {
           "bgcolor": "white",
           "lakecolor": "white",
           "landcolor": "white",
           "showlakes": true,
           "showland": true,
           "subunitcolor": "white"
          },
          "hoverlabel": {
           "align": "left"
          },
          "hovermode": "closest",
          "mapbox": {
           "style": "light"
          },
          "paper_bgcolor": "white",
          "plot_bgcolor": "white",
          "polar": {
           "angularaxis": {
            "gridcolor": "rgb(232,232,232)",
            "linecolor": "rgb(36,36,36)",
            "showgrid": false,
            "showline": true,
            "ticks": "outside"
           },
           "bgcolor": "white",
           "radialaxis": {
            "gridcolor": "rgb(232,232,232)",
            "linecolor": "rgb(36,36,36)",
            "showgrid": false,
            "showline": true,
            "ticks": "outside"
           }
          },
          "scene": {
           "xaxis": {
            "backgroundcolor": "white",
            "gridcolor": "rgb(232,232,232)",
            "gridwidth": 2,
            "linecolor": "rgb(36,36,36)",
            "showbackground": true,
            "showgrid": false,
            "showline": true,
            "ticks": "outside",
            "zeroline": false,
            "zerolinecolor": "rgb(36,36,36)"
           },
           "yaxis": {
            "backgroundcolor": "white",
            "gridcolor": "rgb(232,232,232)",
            "gridwidth": 2,
            "linecolor": "rgb(36,36,36)",
            "showbackground": true,
            "showgrid": false,
            "showline": true,
            "ticks": "outside",
            "zeroline": false,
            "zerolinecolor": "rgb(36,36,36)"
           },
           "zaxis": {
            "backgroundcolor": "white",
            "gridcolor": "rgb(232,232,232)",
            "gridwidth": 2,
            "linecolor": "rgb(36,36,36)",
            "showbackground": true,
            "showgrid": false,
            "showline": true,
            "ticks": "outside",
            "zeroline": false,
            "zerolinecolor": "rgb(36,36,36)"
           }
          },
          "shapedefaults": {
           "fillcolor": "black",
           "line": {
            "width": 0
           },
           "opacity": 0.3
          },
          "ternary": {
           "aaxis": {
            "gridcolor": "rgb(232,232,232)",
            "linecolor": "rgb(36,36,36)",
            "showgrid": false,
            "showline": true,
            "ticks": "outside"
           },
           "baxis": {
            "gridcolor": "rgb(232,232,232)",
            "linecolor": "rgb(36,36,36)",
            "showgrid": false,
            "showline": true,
            "ticks": "outside"
           },
           "bgcolor": "white",
           "caxis": {
            "gridcolor": "rgb(232,232,232)",
            "linecolor": "rgb(36,36,36)",
            "showgrid": false,
            "showline": true,
            "ticks": "outside"
           }
          },
          "title": {
           "x": 0.05
          },
          "xaxis": {
           "automargin": true,
           "gridcolor": "rgb(232,232,232)",
           "linecolor": "rgb(36,36,36)",
           "showgrid": false,
           "showline": true,
           "ticks": "outside",
           "title": {
            "standoff": 15
           },
           "zeroline": false,
           "zerolinecolor": "rgb(36,36,36)"
          },
          "yaxis": {
           "automargin": true,
           "gridcolor": "rgb(232,232,232)",
           "linecolor": "rgb(36,36,36)",
           "showgrid": false,
           "showline": true,
           "ticks": "outside",
           "title": {
            "standoff": 15
           },
           "zeroline": false,
           "zerolinecolor": "rgb(36,36,36)"
          }
         }
        },
        "width": 800,
        "xaxis": {
         "anchor": "y",
         "domain": [
          0,
          1
         ],
         "rangeslider": {
          "visible": false
         },
         "title": {
          "text": "age_house"
         }
        },
        "yaxis": {
         "anchor": "x",
         "domain": [
          0,
          1
         ],
         "title": {
          "text": "price"
         }
        }
       }
      }
     },
     "metadata": {},
     "output_type": "display_data"
    }
   ],
   "source": [
    "# H2: Imóveis com data de construção menor que 1955, são 50% mais baratos, na média.\n",
    "h2 = df3[['age_house', 'price']].groupby(['age_house']).mean().reset_index()\n",
    "\n",
    "# Calculo do percentual\n",
    "h2_p = calculo_percentual(df=h2, coluna='price')\n",
    "\n",
    "\n",
    "# Analise da Hipótese\n",
    "print(' A Hipótese é falsa, pois imóveis com data de construção menor que 1955 são na média {:.2f}% mais barato.'.format(h2_p))\n",
    "\n",
    "plot_bar(df=h2, x='age_house', y='price')\n"
   ]
  },
  {
   "cell_type": "markdown",
   "id": "b59f2a6d",
   "metadata": {},
   "source": [
    "H3: Imóveis sem porão possuem área toral(sqrt_lot), são 40% maiores do que os imoveis com porão."
   ]
  },
  {
   "cell_type": "code",
   "execution_count": 253,
   "id": "987c68ac",
   "metadata": {},
   "outputs": [
    {
     "name": "stdout",
     "output_type": "stream",
     "text": [
      "A Hipótese é falsa, pois imóveis sem porão são 22.56% maiores que os com porão\n"
     ]
    },
    {
     "data": {
      "text/plain": [
       "<AxesSubplot:xlabel='basement', ylabel='sqft_lot'>"
      ]
     },
     "execution_count": 253,
     "metadata": {},
     "output_type": "execute_result"
    },
    {
     "data": {
      "image/png": "[encoded data removed]",
      "text/plain": [
       "<Figure size 720x576 with 1 Axes>"
      ]
     },
     "metadata": {},
     "output_type": "display_data"
    }
   ],
   "source": [
    "#H3: Imóveis sem porão(sqrt_basement), são 40% maiores do que os imoveis com porão na média.\n",
    "h3 = df2[['basement', 'sqft_lot']].groupby('basement').mean().reset_index()\n",
    "\n",
    "# Calculo do percentual\n",
    "h3_perc = (h3.loc[0, 'sqft_lot'] / h3.loc[1, 'sqft_lot'] - 1) * 100\n",
    "\n",
    "# Analise da Hipótese\n",
    "print('A Hipótese é falsa, pois imóveis sem porão são {:.2f}% maiores que os com porão'.format(h3_perc))\n",
    "\n",
    "# plot\n",
    "sns.barplot(x='basement', y='sqft_lot', data=h3)"
   ]
  },
  {
   "cell_type": "markdown",
   "id": "6d2cc34d",
   "metadata": {},
   "source": [
    " H4: O crescimento do preço dos imoveis YoY(Year over Year) é de 10%."
   ]
  },
  {
   "cell_type": "code",
   "execution_count": 260,
   "id": "310c0f5c",
   "metadata": {},
   "outputs": [
    {
     "name": "stdout",
     "output_type": "stream",
     "text": [
      "A Hipótese é falsa, pois o crescimento ano a ano dos  preços foi de apenas 0.52% de um ano para outro\n"
     ]
    },
    {
     "data": {
      "text/plain": [
       "<AxesSubplot:xlabel='year', ylabel='price'>"
      ]
     },
     "execution_count": 260,
     "metadata": {},
     "output_type": "execute_result"
    },
    {
     "data": {
      "image/png": "[encoded data removed]",
      "text/plain": [
       "<Figure size 720x576 with 1 Axes>"
      ]
     },
     "metadata": {},
     "output_type": "display_data"
    }
   ],
   "source": [
    "# H4: O crescimento do preço dos imoveis YoY(Year over Year) é de 10% na media.\n",
    "h4 = df3[['year', 'price']].groupby('year').mean().reset_index()\n",
    "\n",
    "# Calculo Percentual da variação\n",
    "h4_p = (h4.loc[1, 'price'] / h4.loc[0, 'price'] - 1) * 100\n",
    "\n",
    "# Analise da Hipótese\n",
    "print('A Hipótese é falsa, pois o crescimento ano a ano dos  preços foi de apenas {:.2f}% de um ano para outro'.format(h4_p))\n",
    "\n",
    "# plot\n",
    "sns.barplot(x='year', y='price', data=h4)"
   ]
  },
  {
   "cell_type": "markdown",
   "id": "dc3c2ec5",
   "metadata": {},
   "source": [
    "H5: Imóveis com 3 banheiros tem um crescimento de MoM (Month over Month) de 15%."
   ]
  },
  {
   "cell_type": "code",
   "execution_count": 262,
   "id": "9f2b187f",
   "metadata": {},
   "outputs": [
    {
     "name": "stdout",
     "output_type": "stream",
     "text": [
      "A Hipótese é falsa, o crescimento Month over Month na média é de 0.23%\n"
     ]
    },
    {
     "data": {
      "text/plain": [
       "<AxesSubplot:xlabel='month', ylabel='price'>"
      ]
     },
     "execution_count": 262,
     "metadata": {},
     "output_type": "execute_result"
    },
    {
     "data": {
      "image/png": "[encoded data removed]",
      "text/plain": [
       "<Figure size 720x576 with 1 Axes>"
      ]
     },
     "metadata": {},
     "output_type": "display_data"
    }
   ],
   "source": [
    "#H5: Imóveis com 3 banheiros tem um crescimento de MoM (Month over Month) de 15%.\n",
    "h5 =df3[df3['bathrooms'] == 3][['bathrooms', 'year', 'month','month_name', 'price']].sort_values(by=['year', 'month']).reset_index().drop('index', axis=1)\n",
    "h5_group = h5.groupby(['year', 'month', 'month_name']).mean().reset_index().drop('bathrooms', axis=1)\n",
    "\n",
    "#Calculo da variação percentual mes a mes\n",
    "h5_perc = 0\n",
    "for i in range(0, 12):\n",
    "    var = (h5_group.iloc[i+1, 3] / h5_group.iloc[i, 3] *100) - 100\n",
    "    h5_perc = h5_perc + var\n",
    "h5_perc = h5_perc / 12\n",
    "\n",
    "#Conclusão\n",
    "print('A Hipótese é falsa, o crescimento Month over Month na média é de {:.2f}%'.format(h5_perc))\n",
    "\n",
    "# plot\n",
    "sns.barplot(x='month', y='price', data=h5)\n"
   ]
  },
  {
   "cell_type": "markdown",
   "id": "64a5705f",
   "metadata": {},
   "source": [
    "H6: Imóveis reformados são 30% mais caro na média"
   ]
  },
  {
   "cell_type": "code",
   "execution_count": 256,
   "id": "31a3a8a1",
   "metadata": {},
   "outputs": [
    {
     "name": "stdout",
     "output_type": "stream",
     "text": [
      "A Hipótese é verdadeira, os imóveis reformados são 43.37% mais caros na média\n"
     ]
    },
    {
     "data": {
      "text/plain": [
       "<AxesSubplot:xlabel='renovated', ylabel='price'>"
      ]
     },
     "execution_count": 256,
     "metadata": {},
     "output_type": "execute_result"
    },
    {
     "data": {
      "image/png": "[encoded data removed]",
      "text/plain": [
       "<Figure size 720x576 with 1 Axes>"
      ]
     },
     "metadata": {},
     "output_type": "display_data"
    }
   ],
   "source": [
    "# H6: Imóveis reformados são 30% mais caro na média.\n",
    "h6 = df3[['renovated', 'price']].groupby('renovated').mean().reset_index()\n",
    "\n",
    "# Calculo do percentual\n",
    "h6_perc = (h6.loc[1, 'price'] / h6.loc[0, 'price'] - 1) * 100\n",
    "\n",
    "# Analise da Hipótese\n",
    "print('A Hipótese é verdadeira, os imóveis reformados são {:.2f}% mais caros na média'.format(h6_perc))\n",
    "\n",
    "# plot\n",
    "sns.barplot(x='renovated', y='price', data=h6)"
   ]
  },
  {
   "cell_type": "markdown",
   "id": "6dfb958e",
   "metadata": {},
   "source": [
    "H7: Imoveis vendem 30% mais no verão."
   ]
  },
  {
   "cell_type": "code",
   "execution_count": 229,
   "id": "4cae08fc",
   "metadata": {},
   "outputs": [
    {
     "name": "stdout",
     "output_type": "stream",
     "text": [
      "A Hipótese é falsa, imóveis vendem -2.91% a menos no verão em comparação a primavera que é a estação que mais vende\n"
     ]
    },
    {
     "data": {
      "text/plain": [
       "<AxesSubplot:xlabel='Season', ylabel='Count'>"
      ]
     },
     "execution_count": 229,
     "metadata": {},
     "output_type": "execute_result"
    },
    {
     "data": {
      "image/png": "[encoded data removed]",
      "text/plain": [
       "<Figure size 1800x864 with 2 Axes>"
      ]
     },
     "metadata": {},
     "output_type": "display_data"
    }
   ],
   "source": [
    "#H7: Imoveis vendem 30% mais no verão.\n",
    "h7 = df3[['season', 'price']].groupby('season').count().sort_values(by='price', ascending=False).reset_index()\n",
    "h7.rename(columns= {'season':'Season', 'price': 'Count'}, inplace=True)\n",
    "\n",
    "# Calculo do percentual\n",
    "h7_perc = (h7.loc[1, 'Count'] / h7.loc[0, 'Count'] -1) *100\n",
    "\n",
    "# Analise da Hipótese\n",
    "print('A Hipótese é falsa, imóveis vendem {:.2f}% a menos no verão em comparação a primavera que é a estação que mais vende'.format(h7_perc))\n",
    "\n",
    "# plot\n",
    "plt.subplot(1,2,1)\n",
    "sns.barplot(x='Season', y='Count', data=h7)\n",
    "\n",
    "plt.subplot(1,2,2)\n",
    "sns.lineplot(x='Season', y='Count', data=h7)"
   ]
  },
  {
   "cell_type": "markdown",
   "id": "58a41fa1",
   "metadata": {},
   "source": [
    "H8: Imoveis são 15% mais caro no verão."
   ]
  },
  {
   "cell_type": "code",
   "execution_count": 230,
   "id": "d82c3d94",
   "metadata": {},
   "outputs": [
    {
     "name": "stdout",
     "output_type": "stream",
     "text": [
      "A Hipótese é falsa, imoveis no verão vendem -1.06% em relação a primavera, que é a estação que mais vende.\n"
     ]
    },
    {
     "data": {
      "text/plain": [
       "<AxesSubplot:xlabel='price', ylabel='season'>"
      ]
     },
     "execution_count": 230,
     "metadata": {},
     "output_type": "execute_result"
    },
    {
     "data": {
      "image/png": "[encoded data removed]",
      "text/plain": [
       "<Figure size 1800x864 with 2 Axes>"
      ]
     },
     "metadata": {},
     "output_type": "display_data"
    }
   ],
   "source": [
    "#H8: Em media os imóveis são 15% mais caro no verão.\n",
    "h8 = df3[['season', 'price']].groupby('season').mean().sort_values(by='price', ascending=False).reset_index()\n",
    "\n",
    "# Calculo do percentual\n",
    "h8_perc = (h8.loc[1, 'price'] / h8.loc[0, 'price'] - 1) * 100\n",
    "\n",
    "# Analise da Hipótese\n",
    "print('A Hipótese é falsa, imoveis no verão vendem {:.2f}% em relação a primavera, que é a estação que mais vende.'.format(h8_perc))\n",
    "\n",
    "# plot\n",
    "plt.subplot(1,2,1)\n",
    "sns.barplot(x='season', y='price', data=h8)\n",
    "\n",
    "plt.subplot(1,2,2)\n",
    "sns.lineplot(x='price', y='season', data=h8)\n",
    "\n"
   ]
  },
  {
   "cell_type": "markdown",
   "id": "d7f227bd",
   "metadata": {},
   "source": [
    "## 4.0. Questão de Negócio"
   ]
  },
  {
   "cell_type": "code",
   "execution_count": 206,
   "id": "bc3a8eea",
   "metadata": {},
   "outputs": [],
   "source": [
    "df4 = df3.copy()"
   ]
  },
  {
   "cell_type": "markdown",
   "id": "a2dfda23",
   "metadata": {},
   "source": [
    "#### 4.1. Quais são os imóveis que a House Rocket deveria comprar e por qual preço?\n",
    "- Passos a serem tomados para a resolução:\n",
    "- Agrupar os imóveis por região (zipcode).\n",
    "- Dentro de cada região, encontrar a mediana do preço do imóvel.\n",
    "- Sugerir os imóveis que estão abaixo do preço mediano da região e que estejam em boas condições.\n",
    "- Construir uma tabela com recomendações de compra ou não compra."
   ]
  },
  {
   "cell_type": "code",
   "execution_count": 207,
   "id": "7625363c",
   "metadata": {},
   "outputs": [],
   "source": [
    "# Agrupamento por zipcode e mediana de cada região\n",
    "zip_median = df4[['zipcode', 'price']].groupby('zipcode').median().reset_index()"
   ]
  },
  {
   "cell_type": "code",
   "execution_count": 208,
   "id": "7fa3ba79",
   "metadata": {},
   "outputs": [
    {
     "data": {
      "text/html": [
       "<div>\n",
       "<style scoped>\n",
       "    .dataframe tbody tr th:only-of-type {\n",
       "        vertical-align: middle;\n",
       "    }\n",
       "\n",
       "    .dataframe tbody tr th {\n",
       "        vertical-align: top;\n",
       "    }\n",
       "\n",
       "    .dataframe thead th {\n",
       "        text-align: right;\n",
       "    }\n",
       "</style>\n",
       "<table border=\"1\" class=\"dataframe\">\n",
       "  <thead>\n",
       "    <tr style=\"text-align: right;\">\n",
       "      <th></th>\n",
       "      <th>zipcode</th>\n",
       "      <th>price</th>\n",
       "    </tr>\n",
       "  </thead>\n",
       "  <tbody>\n",
       "    <tr>\n",
       "      <th>0</th>\n",
       "      <td>98001</td>\n",
       "      <td>260000.00</td>\n",
       "    </tr>\n",
       "    <tr>\n",
       "      <th>1</th>\n",
       "      <td>98002</td>\n",
       "      <td>235000.00</td>\n",
       "    </tr>\n",
       "    <tr>\n",
       "      <th>2</th>\n",
       "      <td>98003</td>\n",
       "      <td>267475.00</td>\n",
       "    </tr>\n",
       "    <tr>\n",
       "      <th>3</th>\n",
       "      <td>98004</td>\n",
       "      <td>1150000.00</td>\n",
       "    </tr>\n",
       "    <tr>\n",
       "      <th>4</th>\n",
       "      <td>98005</td>\n",
       "      <td>765475.00</td>\n",
       "    </tr>\n",
       "  </tbody>\n",
       "</table>\n",
       "</div>"
      ],
      "text/plain": [
       "   zipcode      price\n",
       "0    98001  260000.00\n",
       "1    98002  235000.00\n",
       "2    98003  267475.00\n",
       "3    98004 1150000.00\n",
       "4    98005  765475.00"
      ]
     },
     "execution_count": 208,
     "metadata": {},
     "output_type": "execute_result"
    }
   ],
   "source": [
    "zip_median.head()"
   ]
  },
  {
   "cell_type": "code",
   "execution_count": 209,
   "id": "9b5de73a",
   "metadata": {},
   "outputs": [],
   "source": [
    "# Agrupamento por zipcode e mediana de cada região\n",
    "zip_median = df4[['zipcode', 'price']].groupby('zipcode').median()\n",
    "zip_median = zip_median.rename(columns={'price': 'price_median'})\n",
    "\n",
    "# Agrupando a mediana ao Dataset\n",
    "df5 = pd.merge(df4, zip_median, on='zipcode', how='inner')\n",
    "\n",
    "#Removendo linhas duplicatdas do Dataset\n",
    "df5 = df5.drop_duplicates( subset= 'id', keep= 'last')\n",
    "\n",
    "df5 = df5.reset_index()"
   ]
  },
  {
   "cell_type": "code",
   "execution_count": 210,
   "id": "fa84b394",
   "metadata": {},
   "outputs": [
    {
     "data": {
      "text/html": [
       "<div>\n",
       "<style scoped>\n",
       "    .dataframe tbody tr th:only-of-type {\n",
       "        vertical-align: middle;\n",
       "    }\n",
       "\n",
       "    .dataframe tbody tr th {\n",
       "        vertical-align: top;\n",
       "    }\n",
       "\n",
       "    .dataframe thead th {\n",
       "        text-align: right;\n",
       "    }\n",
       "</style>\n",
       "<table border=\"1\" class=\"dataframe\">\n",
       "  <thead>\n",
       "    <tr style=\"text-align: right;\">\n",
       "      <th></th>\n",
       "      <th>index</th>\n",
       "      <th>id</th>\n",
       "      <th>date</th>\n",
       "      <th>price</th>\n",
       "      <th>bedrooms</th>\n",
       "      <th>bathrooms</th>\n",
       "      <th>sqft_living</th>\n",
       "      <th>sqft_lot</th>\n",
       "      <th>floors</th>\n",
       "      <th>waterfront</th>\n",
       "      <th>view</th>\n",
       "      <th>condition</th>\n",
       "      <th>grade</th>\n",
       "      <th>sqft_above</th>\n",
       "      <th>sqft_basement</th>\n",
       "      <th>yr_built</th>\n",
       "      <th>yr_renovated</th>\n",
       "      <th>zipcode</th>\n",
       "      <th>lat</th>\n",
       "      <th>long</th>\n",
       "      <th>sqft_living15</th>\n",
       "      <th>sqft_lot15</th>\n",
       "      <th>age_house</th>\n",
       "      <th>basement</th>\n",
       "      <th>year</th>\n",
       "      <th>month</th>\n",
       "      <th>month_name</th>\n",
       "      <th>renovated</th>\n",
       "      <th>season</th>\n",
       "      <th>price_median</th>\n",
       "    </tr>\n",
       "  </thead>\n",
       "  <tbody>\n",
       "    <tr>\n",
       "      <th>0</th>\n",
       "      <td>0</td>\n",
       "      <td>7129300520</td>\n",
       "      <td>2014-10-13</td>\n",
       "      <td>221900.00</td>\n",
       "      <td>3</td>\n",
       "      <td>1.00</td>\n",
       "      <td>1180</td>\n",
       "      <td>5650</td>\n",
       "      <td>1</td>\n",
       "      <td>0</td>\n",
       "      <td>0</td>\n",
       "      <td>3</td>\n",
       "      <td>7</td>\n",
       "      <td>1180</td>\n",
       "      <td>0</td>\n",
       "      <td>1955</td>\n",
       "      <td>0</td>\n",
       "      <td>98178</td>\n",
       "      <td>47.51</td>\n",
       "      <td>-122.26</td>\n",
       "      <td>1340</td>\n",
       "      <td>5650</td>\n",
       "      <td>old</td>\n",
       "      <td>no</td>\n",
       "      <td>2014</td>\n",
       "      <td>10</td>\n",
       "      <td>October</td>\n",
       "      <td>no</td>\n",
       "      <td>autumn</td>\n",
       "      <td>278277.00</td>\n",
       "    </tr>\n",
       "    <tr>\n",
       "      <th>1</th>\n",
       "      <td>1</td>\n",
       "      <td>4060000240</td>\n",
       "      <td>2014-06-23</td>\n",
       "      <td>205425.00</td>\n",
       "      <td>2</td>\n",
       "      <td>1.00</td>\n",
       "      <td>880</td>\n",
       "      <td>6780</td>\n",
       "      <td>1</td>\n",
       "      <td>0</td>\n",
       "      <td>0</td>\n",
       "      <td>4</td>\n",
       "      <td>6</td>\n",
       "      <td>880</td>\n",
       "      <td>0</td>\n",
       "      <td>1945</td>\n",
       "      <td>0</td>\n",
       "      <td>98178</td>\n",
       "      <td>47.50</td>\n",
       "      <td>-122.25</td>\n",
       "      <td>1190</td>\n",
       "      <td>6780</td>\n",
       "      <td>old</td>\n",
       "      <td>no</td>\n",
       "      <td>2014</td>\n",
       "      <td>6</td>\n",
       "      <td>June</td>\n",
       "      <td>no</td>\n",
       "      <td>summer</td>\n",
       "      <td>278277.00</td>\n",
       "    </tr>\n",
       "    <tr>\n",
       "      <th>2</th>\n",
       "      <td>2</td>\n",
       "      <td>4058801670</td>\n",
       "      <td>2014-07-17</td>\n",
       "      <td>445000.00</td>\n",
       "      <td>3</td>\n",
       "      <td>2.25</td>\n",
       "      <td>2100</td>\n",
       "      <td>8201</td>\n",
       "      <td>1</td>\n",
       "      <td>0</td>\n",
       "      <td>2</td>\n",
       "      <td>3</td>\n",
       "      <td>8</td>\n",
       "      <td>1620</td>\n",
       "      <td>480</td>\n",
       "      <td>1967</td>\n",
       "      <td>0</td>\n",
       "      <td>98178</td>\n",
       "      <td>47.51</td>\n",
       "      <td>-122.24</td>\n",
       "      <td>2660</td>\n",
       "      <td>8712</td>\n",
       "      <td>new</td>\n",
       "      <td>yes</td>\n",
       "      <td>2014</td>\n",
       "      <td>7</td>\n",
       "      <td>July</td>\n",
       "      <td>no</td>\n",
       "      <td>summer</td>\n",
       "      <td>278277.00</td>\n",
       "    </tr>\n",
       "    <tr>\n",
       "      <th>3</th>\n",
       "      <td>3</td>\n",
       "      <td>2976800796</td>\n",
       "      <td>2014-09-25</td>\n",
       "      <td>236000.00</td>\n",
       "      <td>3</td>\n",
       "      <td>1.00</td>\n",
       "      <td>1300</td>\n",
       "      <td>5898</td>\n",
       "      <td>1</td>\n",
       "      <td>0</td>\n",
       "      <td>0</td>\n",
       "      <td>3</td>\n",
       "      <td>7</td>\n",
       "      <td>1300</td>\n",
       "      <td>0</td>\n",
       "      <td>1961</td>\n",
       "      <td>0</td>\n",
       "      <td>98178</td>\n",
       "      <td>47.51</td>\n",
       "      <td>-122.25</td>\n",
       "      <td>1320</td>\n",
       "      <td>7619</td>\n",
       "      <td>new</td>\n",
       "      <td>no</td>\n",
       "      <td>2014</td>\n",
       "      <td>9</td>\n",
       "      <td>September</td>\n",
       "      <td>no</td>\n",
       "      <td>autumn</td>\n",
       "      <td>278277.00</td>\n",
       "    </tr>\n",
       "    <tr>\n",
       "      <th>4</th>\n",
       "      <td>4</td>\n",
       "      <td>6874200960</td>\n",
       "      <td>2015-02-27</td>\n",
       "      <td>170000.00</td>\n",
       "      <td>2</td>\n",
       "      <td>1.00</td>\n",
       "      <td>860</td>\n",
       "      <td>5265</td>\n",
       "      <td>1</td>\n",
       "      <td>0</td>\n",
       "      <td>0</td>\n",
       "      <td>3</td>\n",
       "      <td>6</td>\n",
       "      <td>860</td>\n",
       "      <td>0</td>\n",
       "      <td>1931</td>\n",
       "      <td>0</td>\n",
       "      <td>98178</td>\n",
       "      <td>47.50</td>\n",
       "      <td>-122.27</td>\n",
       "      <td>1650</td>\n",
       "      <td>8775</td>\n",
       "      <td>old</td>\n",
       "      <td>no</td>\n",
       "      <td>2015</td>\n",
       "      <td>2</td>\n",
       "      <td>February</td>\n",
       "      <td>no</td>\n",
       "      <td>winter</td>\n",
       "      <td>278277.00</td>\n",
       "    </tr>\n",
       "  </tbody>\n",
       "</table>\n",
       "</div>"
      ],
      "text/plain": [
       "   index          id       date     price  bedrooms  bathrooms  sqft_living  sqft_lot  floors  waterfront  view  condition  grade  sqft_above  sqft_basement  yr_built  yr_renovated  zipcode   lat    long  sqft_living15  sqft_lot15 age_house basement  year  month month_name renovated  season  price_median\n",
       "0      0  7129300520 2014-10-13 221900.00         3       1.00         1180      5650       1           0     0          3      7        1180              0      1955             0    98178 47.51 -122.26           1340        5650       old       no  2014     10    October        no  autumn     278277.00\n",
       "1      1  4060000240 2014-06-23 205425.00         2       1.00          880      6780       1           0     0          4      6         880              0      1945             0    98178 47.50 -122.25           1190        6780       old       no  2014      6       June        no  summer     278277.00\n",
       "2      2  4058801670 2014-07-17 445000.00         3       2.25         2100      8201       1           0     2          3      8        1620            480      1967             0    98178 47.51 -122.24           2660        8712       new      yes  2014      7       July        no  summer     278277.00\n",
       "3      3  2976800796 2014-09-25 236000.00         3       1.00         1300      5898       1           0     0          3      7        1300              0      1961             0    98178 47.51 -122.25           1320        7619       new       no  2014      9  September        no  autumn     278277.00\n",
       "4      4  6874200960 2015-02-27 170000.00         2       1.00          860      5265       1           0     0          3      6         860              0      1931             0    98178 47.50 -122.27           1650        8775       old       no  2015      2   February        no  winter     278277.00"
      ]
     },
     "execution_count": 210,
     "metadata": {},
     "output_type": "execute_result"
    }
   ],
   "source": [
    "df5.head()"
   ]
  },
  {
   "cell_type": "code",
   "execution_count": 211,
   "id": "448d5bb1",
   "metadata": {},
   "outputs": [],
   "source": [
    "# Sugestao de compra ou nao com base na mediana do preco na regiao e condicao do imovel.\n",
    "\n",
    "df5['status'] = 0\n",
    "\n",
    "for i in range(len(df5)):\n",
    "    if (df5.loc[i, 'price_median'] > df5.loc[i, 'price']) & (df5.loc[i, 'condition'] >=3) & (df5.loc[i, 'grade'] >=7):\n",
    "        df5.loc[i, 'status'] = 'buy'\n",
    "\n",
    "    else:\n",
    "        df5.loc[i, 'status'] = 'Not buy'"
   ]
  },
  {
   "cell_type": "code",
   "execution_count": 212,
   "id": "f4b49b4b",
   "metadata": {},
   "outputs": [
    {
     "name": "stdout",
     "output_type": "stream",
     "text": [
      "Temos 8578 imóveis para compra e 12857 imóveis não aptos, seguindo o nosso criterio se avaliação\n"
     ]
    }
   ],
   "source": [
    "df5['status'].value_counts()\n",
    "\n",
    "print('Temos {} imóveis para compra e {} imóveis não aptos, seguindo o nosso criterio se avaliação'.format(df5['status'].value_counts()[1], format(df5['status'].value_counts()[0])))"
   ]
  },
  {
   "cell_type": "markdown",
   "id": "a074d794",
   "metadata": {},
   "source": [
    "#### 4.2 Uma vez a casa comprada. Precisamos calcular qual melhor momento para vendê-las e por qual preço.\n",
    "\n",
    "- Passos a serem tomados para resolução:\n",
    "\n",
    "-   Agrupar os imóveis por região (zipcode) e por sazonalidade (month).\n",
    "-   Dentro de cada região e sazonalidade, calcular a mediana do preço.\n",
    "    \n",
    "-   Condições de Venda:\n",
    "    \n",
    "      - Se o preço da compra for maior que a mediana da região + sazonalidade.\n",
    "          - O preço de venda será igual ao preço de compra + 10%.\n",
    "      - Se o preço da compra for menor que a mediana da região + sazonalidade.\n",
    "          - O preço da venda será igual ao preço da compra +30%."
   ]
  },
  {
   "cell_type": "code",
   "execution_count": 213,
   "id": "05bb354d",
   "metadata": {},
   "outputs": [],
   "source": [
    "df6 = df4.copy()"
   ]
  },
  {
   "cell_type": "code",
   "execution_count": 214,
   "id": "22423d77",
   "metadata": {},
   "outputs": [],
   "source": [
    "df7 = df6[['zipcode', 'season', 'price']].groupby(['zipcode', 'season']).median().reset_index()\n",
    "df7.rename(columns={'price': 'price_median'}, inplace=True)\n",
    "\n",
    "df8 = df6.drop_duplicates(subset=['id'], keep='last')\n",
    "df8 = pd.merge(df8, df7, on=['zipcode', 'season'], how= 'inner')\n",
    "\n",
    "# Sugestao de venda com base no preco mediano da regiao + temporada\n",
    "for i in range (len(df8)):\n",
    "    if df8.loc[i, 'price'] > df8.loc[i, 'price_median']:\n",
    "        df8.loc[i, 'sell_price'] = float(df8.loc[i,'price']*10/100) + float(df8.loc[i, 'price'])\n",
    "        df8.loc[i, 'profit'] = float(df8.loc[i,'price']*10/100)\n",
    "    else:\n",
    "        df8.loc[i, 'sell_price'] = float(df8.loc[i,'price']*30/100) + float(df8.loc[i, 'price'])\n",
    "        df8.loc[i, 'profit'] = float(df8.loc[i,'price']*30/100)"
   ]
  },
  {
   "cell_type": "markdown",
   "id": "3eda9767",
   "metadata": {},
   "source": [
    "## 5.0. Resultados Financeiros"
   ]
  },
  {
   "cell_type": "code",
   "execution_count": 215,
   "id": "b41435c3",
   "metadata": {},
   "outputs": [],
   "source": [
    "df9 = df5.copy()#Dados de compra\n",
    "df10= df8.copy()#Dados de venda"
   ]
  },
  {
   "cell_type": "markdown",
   "id": "fffbc067",
   "metadata": {},
   "source": [
    "- Ao comprar apenas imoveis abaixo da mediana da região em boas condições temos o resultado financeiro abaixo:"
   ]
  },
  {
   "cell_type": "code",
   "execution_count": 216,
   "id": "ec4fb4b6",
   "metadata": {},
   "outputs": [
    {
     "data": {
      "text/html": [
       "<div>\n",
       "<style scoped>\n",
       "    .dataframe tbody tr th:only-of-type {\n",
       "        vertical-align: middle;\n",
       "    }\n",
       "\n",
       "    .dataframe tbody tr th {\n",
       "        vertical-align: top;\n",
       "    }\n",
       "\n",
       "    .dataframe thead th {\n",
       "        text-align: right;\n",
       "    }\n",
       "</style>\n",
       "<table border=\"1\" class=\"dataframe\">\n",
       "  <thead>\n",
       "    <tr style=\"text-align: right;\">\n",
       "      <th></th>\n",
       "      <th>status</th>\n",
       "      <th>Price_buy</th>\n",
       "      <th>sell_price</th>\n",
       "      <th>profit</th>\n",
       "    </tr>\n",
       "  </thead>\n",
       "  <tbody>\n",
       "    <tr>\n",
       "      <th>1</th>\n",
       "      <td>buy</td>\n",
       "      <td>3535777760.00</td>\n",
       "      <td>4561543361.20</td>\n",
       "      <td>1025765601.20</td>\n",
       "    </tr>\n",
       "  </tbody>\n",
       "</table>\n",
       "</div>"
      ],
      "text/plain": [
       "  status     Price_buy    sell_price        profit\n",
       "1    buy 3535777760.00 4561543361.20 1025765601.20"
      ]
     },
     "execution_count": 216,
     "metadata": {},
     "output_type": "execute_result"
    }
   ],
   "source": [
    "df11 = pd.merge(df9, df10, on='id', how= 'inner')\n",
    "\n",
    "df12 = df11[['status','price_x', 'sell_price', 'profit']].groupby('status').sum().reset_index()\n",
    "df12.drop(0, inplace=True)\n",
    "df12.columns = ['status', 'Price_buy', 'sell_price', 'profit']\n",
    "df12"
   ]
  },
  {
   "cell_type": "markdown",
   "id": "7662c998",
   "metadata": {},
   "source": [
    "Observações:\n",
    "\n",
    "- O custo total de compra é de aproximadamente 3,535,777,760, o resultado bruto será de aproximadamente 4,561,543,361.20 e o lucro será de aproximadamente 1,025,765,601.20 correspondendo a 8,578 imóveis.\n",
    "- O lucro por imóvel é de aproximadamente 119,580.97"
   ]
  },
  {
   "cell_type": "markdown",
   "id": "6601c321",
   "metadata": {},
   "source": [
    "- Ao Realizar a compra de todos os imoveis não utilizando os criterios abordados nessa analise temos os resultados abaixo:"
   ]
  },
  {
   "cell_type": "code",
   "execution_count": 217,
   "id": "a40d3288",
   "metadata": {},
   "outputs": [
    {
     "data": {
      "text/html": [
       "<div>\n",
       "<style scoped>\n",
       "    .dataframe tbody tr th:only-of-type {\n",
       "        vertical-align: middle;\n",
       "    }\n",
       "\n",
       "    .dataframe tbody tr th {\n",
       "        vertical-align: top;\n",
       "    }\n",
       "\n",
       "    .dataframe thead th {\n",
       "        text-align: right;\n",
       "    }\n",
       "</style>\n",
       "<table border=\"1\" class=\"dataframe\">\n",
       "  <thead>\n",
       "    <tr style=\"text-align: right;\">\n",
       "      <th></th>\n",
       "      <th>price</th>\n",
       "      <th>sell_price</th>\n",
       "      <th>profit</th>\n",
       "    </tr>\n",
       "  </thead>\n",
       "  <tbody>\n",
       "    <tr>\n",
       "      <th>0</th>\n",
       "      <td>11610168601.00</td>\n",
       "      <td>13611834574.50</td>\n",
       "      <td>2001665973.50</td>\n",
       "    </tr>\n",
       "  </tbody>\n",
       "</table>\n",
       "</div>"
      ],
      "text/plain": [
       "           price     sell_price        profit\n",
       "0 11610168601.00 13611834574.50 2001665973.50"
      ]
     },
     "execution_count": 217,
     "metadata": {},
     "output_type": "execute_result"
    }
   ],
   "source": [
    "df13= df10[['price', 'sell_price', 'profit']].sum()\n",
    "df13 = pd.DataFrame(df13).T\n",
    "df13"
   ]
  },
  {
   "cell_type": "markdown",
   "id": "b09a2dca",
   "metadata": {},
   "source": [
    "Observações:\n",
    "\n",
    "- O Custo total será de aproximadamente 11,610,168,601.00, o resultado bruto será de aproximadamente 13,611,834,574.50 e o lucro aproximado é de 2,001,665,973.50 correspondendo a 21,435 imóveis\n",
    "- O lucro aproximado por imóvel é de 93,383.06"
   ]
  },
  {
   "cell_type": "markdown",
   "id": "9a77b76c",
   "metadata": {},
   "source": [
    "### 5.1. Conclusão"
   ]
  },
  {
   "cell_type": "markdown",
   "id": "f6115caa",
   "metadata": {},
   "source": [
    "\n",
    "A adoção da abordagem de compra com base nos indicadores apontados no primeiro relatório, permite um aumento do lucro de aproxidamente 28,05% por imovel, um custo total aproximado de 228,35% a menos, desta forma conseguimos escolher mehor a comprar do imovel, e com um grande potencial de lucro na venda."
   ]
  }
 ],
 "metadata": {
  "kernelspec": {
   "display_name": "Python 3.10.4 64-bit",
   "language": "python",
   "name": "python3"
  },
  "language_info": {
   "codemirror_mode": {
    "name": "ipython",
    "version": 3
   },
   "file_extension": ".py",
   "mimetype": "text/x-python",
   "name": "python",
   "nbconvert_exporter": "python",
   "pygments_lexer": "ipython3",
   "version": "3.10.4"
  },
  "vscode": {
   "interpreter": {
    "hash": "916dbcbb3f70747c44a77c7bcd40155683ae19c65e1c03b4aa3499c5328201f1"
   }
  }
 },
 "nbformat": 4,
 "nbformat_minor": 5
}
